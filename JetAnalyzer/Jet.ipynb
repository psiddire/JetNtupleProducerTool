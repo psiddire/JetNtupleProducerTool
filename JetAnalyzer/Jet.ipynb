{
 "cells": [
  {
   "cell_type": "code",
   "execution_count": 1,
   "metadata": {},
   "outputs": [
    {
     "name": "stdout",
     "output_type": "stream",
     "text": [
      "Welcome to JupyROOT 6.12/07\n"
     ]
    }
   ],
   "source": [
    "import os\n",
    "from sys import argv, stdout, stderr\n",
    "from ROOT import TFile, gROOT, TCanvas, TLegend\n",
    "import sys                                                                                                                                                                                                                                                  \n",
    "gROOT.SetStyle(\"Plain\")                                                                                                                                                                                                                                           \n",
    "gROOT.SetBatch(True)"
   ]
  },
  {
   "cell_type": "code",
   "execution_count": 4,
   "metadata": {},
   "outputs": [
    {
     "name": "stdout",
     "output_type": "stream",
     "text": [
      "73.7490081787 1.45091354847 0.910118341446 67.515335083\n",
      "54.656955719 -0.187168806791 0.894600272179 55.1098632812\n",
      "34.9105453491 -1.06699097157 -0.82791608572 34.8768844604\n"
     ]
    }
   ],
   "source": [
    "f = TFile('python/JetNtuple_RunIISummer16_13TeV_MCNoJEC.root')\n",
    "t = f.Get('AK4jets/jetTree')\n",
    "\n",
    "nEntries = t.GetEntries()\n",
    "\n",
    "for i in range(0, nEntries):\n",
    "    t.GetEntry(i)\n",
    "    if t.event==8256970:\n",
    "        print t.jetPt, t.jetEta, t.jetPhi, t.jetRawPt"
   ]
  },
  {
   "cell_type": "code",
   "execution_count": 5,
   "metadata": {},
   "outputs": [
    {
     "name": "stdout",
     "output_type": "stream",
     "text": [
      "73.6931533813 1.45091354847 0.910118341446 67.515335083\n",
      "54.097366333 -0.187168806791 0.894600272179 55.1098632812\n",
      "34.7486076355 -1.06699097157 -0.82791608572 34.8768844604\n"
     ]
    }
   ],
   "source": [
    "f = TFile('python/JetNtuple_RunIISummer16_13TeV_MC.root')\n",
    "t = f.Get('AK4jets/jetTree')\n",
    "\n",
    "nEntries = t.GetEntries()\n",
    "\n",
    "for i in range(0, nEntries):\n",
    "    t.GetEntry(i)\n",
    "    if t.event==8256970:\n",
    "        print t.jetPt, t.jetEta, t.jetPhi, t.jetRawPt"
   ]
  },
  {
   "cell_type": "code",
   "execution_count": 9,
   "metadata": {},
   "outputs": [
    {
     "name": "stdout",
     "output_type": "stream",
     "text": [
      "100.85269165 1.78904461861 2.43417572975 90.651802063 1.11749994755\n",
      "71.2207107544 -1.2245568037 0.438046187162 65.1765975952 1.14909994602\n",
      "58.7608070374 1.95223343372 -2.13498425484 52.5627746582 1.13880002499\n",
      "57.9842796326 0.173041313887 -1.26268231869 57.2631034851 1.16390001774\n"
     ]
    }
   ],
   "source": [
    "f = TFile('python/JetNtuple_RunIISummer16_13TeV_MCJER.root')\n",
    "t = f.Get('AK4jets/jetTree')\n",
    "\n",
    "nEntries = t.GetEntries()\n",
    "\n",
    "for i in range(0, nEntries):\n",
    "    t.GetEntry(i)\n",
    "    if t.event==8256948:\n",
    "        print t.jetPt, t.jetEta, t.jetPhi, t.jetRawPt, t.jetSF"
   ]
  },
  {
   "cell_type": "code",
   "execution_count": null,
   "metadata": {},
   "outputs": [],
   "source": []
  }
 ],
 "metadata": {
  "kernelspec": {
   "display_name": "Python 2",
   "language": "python",
   "name": "python2"
  },
  "language_info": {
   "codemirror_mode": {
    "name": "ipython",
    "version": 2
   },
   "file_extension": ".py",
   "mimetype": "text/x-python",
   "name": "python",
   "nbconvert_exporter": "python",
   "pygments_lexer": "ipython2",
   "version": "2.7.14+"
  }
 },
 "nbformat": 4,
 "nbformat_minor": 2
}
